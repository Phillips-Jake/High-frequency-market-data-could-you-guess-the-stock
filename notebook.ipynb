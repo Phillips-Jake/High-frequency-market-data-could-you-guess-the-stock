{
 "cells": [
  {
   "cell_type": "markdown",
   "metadata": {},
   "source": [
    "# High frequency market data: could you guess the stock?"
   ]
  },
  {
   "cell_type": "markdown",
   "metadata": {},
   "source": [
    "## Import the data and libraries"
   ]
  },
  {
   "cell_type": "code",
   "execution_count": 2,
   "metadata": {},
   "outputs": [],
   "source": [
    "import pandas as pd\n",
    "import numpy as np\n",
    "import matplotlib.pyplot as plt\n",
    "import seaborn as sns\n",
    "\n",
    "from sklearn.model_selection import train_test_split\n",
    "\n",
    "pd.set_option(\"display.max_columns\", None)"
   ]
  },
  {
   "cell_type": "code",
   "execution_count": 78,
   "metadata": {},
   "outputs": [],
   "source": [
    "X = pd.read_csv(\"data/X_train.csv\")\n",
    "y = pd.read_csv(\"data/y_train.csv\")\n",
    "\n",
    "X_submit = pd.read_csv(\"data/X_test.csv\")"
   ]
  },
  {
   "cell_type": "markdown",
   "metadata": {},
   "source": [
    "Convert categorical features to categorical data types for performance optimisation and reduced memory usage."
   ]
  },
  {
   "cell_type": "code",
   "execution_count": 81,
   "metadata": {},
   "outputs": [],
   "source": [
    "X[\"action\"] = X[\"action\"].astype(\"category\")\n",
    "X[\"side\"] = X[\"side\"].astype(\"category\")\n",
    "X[\"venue\"] = X[\"venue\"].astype(\"category\")\n",
    "X[\"order_id\"] = X[\"order_id\"].astype(\"category\")"
   ]
  },
  {
   "cell_type": "code",
   "execution_count": 82,
   "metadata": {},
   "outputs": [],
   "source": [
    "X_submit[\"action\"] = X_submit[\"action\"].astype(\"category\")\n",
    "X_submit[\"side\"] = X_submit[\"side\"].astype(\"category\")\n",
    "X_submit[\"venue\"] = X_submit[\"venue\"].astype(\"category\")\n",
    "X_submit[\"order_id\"] = X_submit[\"order_id\"].astype(\"category\")"
   ]
  },
  {
   "cell_type": "markdown",
   "metadata": {},
   "source": [
    "## Inspect the data"
   ]
  },
  {
   "cell_type": "code",
   "execution_count": 83,
   "metadata": {},
   "outputs": [
    {
     "name": "stdout",
     "output_type": "stream",
     "text": [
      "<class 'pandas.core.frame.DataFrame'>\n",
      "RangeIndex: 16080000 entries, 0 to 16079999\n",
      "Data columns (total 12 columns):\n",
      " #   Column    Dtype   \n",
      "---  ------    -----   \n",
      " 0   obs_id    int64   \n",
      " 1   venue     category\n",
      " 2   order_id  category\n",
      " 3   action    category\n",
      " 4   side      category\n",
      " 5   price     float64 \n",
      " 6   bid       float64 \n",
      " 7   ask       float64 \n",
      " 8   bid_size  int64   \n",
      " 9   ask_size  int64   \n",
      " 10  trade     bool    \n",
      " 11  flux      int64   \n",
      "dtypes: bool(1), category(4), float64(3), int64(4)\n",
      "memory usage: 935.4 MB\n",
      "None\n"
     ]
    },
    {
     "data": {
      "text/html": [
       "<div>\n",
       "<style scoped>\n",
       "    .dataframe tbody tr th:only-of-type {\n",
       "        vertical-align: middle;\n",
       "    }\n",
       "\n",
       "    .dataframe tbody tr th {\n",
       "        vertical-align: top;\n",
       "    }\n",
       "\n",
       "    .dataframe thead th {\n",
       "        text-align: right;\n",
       "    }\n",
       "</style>\n",
       "<table border=\"1\" class=\"dataframe\">\n",
       "  <thead>\n",
       "    <tr style=\"text-align: right;\">\n",
       "      <th></th>\n",
       "      <th>obs_id</th>\n",
       "      <th>venue</th>\n",
       "      <th>order_id</th>\n",
       "      <th>action</th>\n",
       "      <th>side</th>\n",
       "      <th>price</th>\n",
       "      <th>bid</th>\n",
       "      <th>ask</th>\n",
       "      <th>bid_size</th>\n",
       "      <th>ask_size</th>\n",
       "      <th>trade</th>\n",
       "      <th>flux</th>\n",
       "    </tr>\n",
       "  </thead>\n",
       "  <tbody>\n",
       "    <tr>\n",
       "      <th>15059524</th>\n",
       "      <td>150595</td>\n",
       "      <td>4</td>\n",
       "      <td>20</td>\n",
       "      <td>A</td>\n",
       "      <td>A</td>\n",
       "      <td>0.02</td>\n",
       "      <td>0.00</td>\n",
       "      <td>0.02</td>\n",
       "      <td>21</td>\n",
       "      <td>519</td>\n",
       "      <td>False</td>\n",
       "      <td>100</td>\n",
       "    </tr>\n",
       "    <tr>\n",
       "      <th>3277453</th>\n",
       "      <td>32774</td>\n",
       "      <td>4</td>\n",
       "      <td>23</td>\n",
       "      <td>D</td>\n",
       "      <td>A</td>\n",
       "      <td>0.03</td>\n",
       "      <td>0.00</td>\n",
       "      <td>0.02</td>\n",
       "      <td>205</td>\n",
       "      <td>100</td>\n",
       "      <td>False</td>\n",
       "      <td>-50</td>\n",
       "    </tr>\n",
       "    <tr>\n",
       "      <th>12583449</th>\n",
       "      <td>125834</td>\n",
       "      <td>4</td>\n",
       "      <td>38</td>\n",
       "      <td>A</td>\n",
       "      <td>A</td>\n",
       "      <td>0.24</td>\n",
       "      <td>0.00</td>\n",
       "      <td>0.19</td>\n",
       "      <td>175</td>\n",
       "      <td>1</td>\n",
       "      <td>False</td>\n",
       "      <td>100</td>\n",
       "    </tr>\n",
       "    <tr>\n",
       "      <th>15060224</th>\n",
       "      <td>150602</td>\n",
       "      <td>2</td>\n",
       "      <td>16</td>\n",
       "      <td>A</td>\n",
       "      <td>B</td>\n",
       "      <td>-0.01</td>\n",
       "      <td>0.00</td>\n",
       "      <td>0.14</td>\n",
       "      <td>2</td>\n",
       "      <td>355</td>\n",
       "      <td>False</td>\n",
       "      <td>100</td>\n",
       "    </tr>\n",
       "    <tr>\n",
       "      <th>4674884</th>\n",
       "      <td>46748</td>\n",
       "      <td>0</td>\n",
       "      <td>48</td>\n",
       "      <td>D</td>\n",
       "      <td>B</td>\n",
       "      <td>-0.02</td>\n",
       "      <td>-0.02</td>\n",
       "      <td>0.02</td>\n",
       "      <td>1700</td>\n",
       "      <td>200</td>\n",
       "      <td>False</td>\n",
       "      <td>-100</td>\n",
       "    </tr>\n",
       "    <tr>\n",
       "      <th>9705729</th>\n",
       "      <td>97057</td>\n",
       "      <td>4</td>\n",
       "      <td>28</td>\n",
       "      <td>D</td>\n",
       "      <td>A</td>\n",
       "      <td>0.01</td>\n",
       "      <td>0.00</td>\n",
       "      <td>0.01</td>\n",
       "      <td>501</td>\n",
       "      <td>69</td>\n",
       "      <td>False</td>\n",
       "      <td>-6</td>\n",
       "    </tr>\n",
       "    <tr>\n",
       "      <th>11833380</th>\n",
       "      <td>118333</td>\n",
       "      <td>5</td>\n",
       "      <td>27</td>\n",
       "      <td>D</td>\n",
       "      <td>B</td>\n",
       "      <td>0.00</td>\n",
       "      <td>0.01</td>\n",
       "      <td>0.12</td>\n",
       "      <td>200</td>\n",
       "      <td>135</td>\n",
       "      <td>False</td>\n",
       "      <td>-100</td>\n",
       "    </tr>\n",
       "    <tr>\n",
       "      <th>15592448</th>\n",
       "      <td>155924</td>\n",
       "      <td>1</td>\n",
       "      <td>33</td>\n",
       "      <td>D</td>\n",
       "      <td>A</td>\n",
       "      <td>0.10</td>\n",
       "      <td>0.02</td>\n",
       "      <td>0.10</td>\n",
       "      <td>100</td>\n",
       "      <td>100</td>\n",
       "      <td>False</td>\n",
       "      <td>-100</td>\n",
       "    </tr>\n",
       "    <tr>\n",
       "      <th>1873293</th>\n",
       "      <td>18732</td>\n",
       "      <td>2</td>\n",
       "      <td>76</td>\n",
       "      <td>A</td>\n",
       "      <td>A</td>\n",
       "      <td>0.09</td>\n",
       "      <td>0.03</td>\n",
       "      <td>0.05</td>\n",
       "      <td>5</td>\n",
       "      <td>100</td>\n",
       "      <td>False</td>\n",
       "      <td>3</td>\n",
       "    </tr>\n",
       "    <tr>\n",
       "      <th>7301953</th>\n",
       "      <td>73019</td>\n",
       "      <td>4</td>\n",
       "      <td>35</td>\n",
       "      <td>A</td>\n",
       "      <td>B</td>\n",
       "      <td>-0.57</td>\n",
       "      <td>0.02</td>\n",
       "      <td>0.13</td>\n",
       "      <td>20</td>\n",
       "      <td>20</td>\n",
       "      <td>False</td>\n",
       "      <td>100</td>\n",
       "    </tr>\n",
       "  </tbody>\n",
       "</table>\n",
       "</div>"
      ],
      "text/plain": [
       "          obs_id venue order_id action side  price   bid   ask  bid_size  \\\n",
       "15059524  150595     4       20      A    A   0.02  0.00  0.02        21   \n",
       "3277453    32774     4       23      D    A   0.03  0.00  0.02       205   \n",
       "12583449  125834     4       38      A    A   0.24  0.00  0.19       175   \n",
       "15060224  150602     2       16      A    B  -0.01  0.00  0.14         2   \n",
       "4674884    46748     0       48      D    B  -0.02 -0.02  0.02      1700   \n",
       "9705729    97057     4       28      D    A   0.01  0.00  0.01       501   \n",
       "11833380  118333     5       27      D    B   0.00  0.01  0.12       200   \n",
       "15592448  155924     1       33      D    A   0.10  0.02  0.10       100   \n",
       "1873293    18732     2       76      A    A   0.09  0.03  0.05         5   \n",
       "7301953    73019     4       35      A    B  -0.57  0.02  0.13        20   \n",
       "\n",
       "          ask_size  trade  flux  \n",
       "15059524       519  False   100  \n",
       "3277453        100  False   -50  \n",
       "12583449         1  False   100  \n",
       "15060224       355  False   100  \n",
       "4674884        200  False  -100  \n",
       "9705729         69  False    -6  \n",
       "11833380       135  False  -100  \n",
       "15592448       100  False  -100  \n",
       "1873293        100  False     3  \n",
       "7301953         20  False   100  "
      ]
     },
     "execution_count": 83,
     "metadata": {},
     "output_type": "execute_result"
    }
   ],
   "source": [
    "print(X.info())\n",
    "X.sample(10)"
   ]
  },
  {
   "cell_type": "markdown",
   "metadata": {},
   "source": [
    "First check for null entries:"
   ]
  },
  {
   "cell_type": "code",
   "execution_count": 7,
   "metadata": {},
   "outputs": [
    {
     "data": {
      "text/plain": [
       "obs_id      0\n",
       "venue       0\n",
       "order_id    0\n",
       "action      0\n",
       "side        0\n",
       "price       0\n",
       "bid         0\n",
       "ask         0\n",
       "bid_size    0\n",
       "ask_size    0\n",
       "trade       0\n",
       "flux        0\n",
       "dtype: int64"
      ]
     },
     "execution_count": 7,
     "metadata": {},
     "output_type": "execute_result"
    }
   ],
   "source": [
    "X.isnull().sum()"
   ]
  },
  {
   "cell_type": "code",
   "execution_count": 8,
   "metadata": {},
   "outputs": [
    {
     "name": "stdout",
     "output_type": "stream",
     "text": [
      "         obs_id     price       bid       ask  bid_size  ask_size      flux\n",
      "count  1.61e+07  1.61e+07  1.61e+07  1.61e+07  1.61e+07  1.61e+07  1.61e+07\n",
      "mean   8.04e+04  8.81e-01  1.71e-04  5.95e-01  4.30e+02  4.29e+02  2.71e-02\n",
      "std    4.64e+04  2.18e+02  3.66e-02  1.11e+01  7.40e+02  7.27e+02  1.46e+02\n",
      "min    0.00e+00 -5.70e+02 -7.60e-01 -3.81e+02 -2.00e+00  1.00e+00 -5.00e+04\n",
      "25%    4.02e+04 -2.00e-02  0.00e+00  1.00e-02  1.00e+02  1.00e+02 -1.00e+02\n",
      "50%    8.04e+04  1.00e-02  0.00e+00  4.00e-02  2.23e+02  2.21e+02 -1.00e+00\n",
      "75%    1.21e+05  9.00e-02  0.00e+00  8.00e-02  5.01e+02  5.00e+02  1.00e+02\n",
      "max    1.61e+05  2.00e+05  1.62e+01  2.68e+02  8.77e+04  1.50e+05  3.13e+04\n"
     ]
    }
   ],
   "source": [
    "with pd.option_context(\"display.precision\", 2):\n",
    "    print(X.describe())"
   ]
  }
 ],
 "metadata": {
  "kernelspec": {
   "display_name": "DataScience",
   "language": "python",
   "name": "python3"
  },
  "language_info": {
   "codemirror_mode": {
    "name": "ipython",
    "version": 3
   },
   "file_extension": ".py",
   "mimetype": "text/x-python",
   "name": "python",
   "nbconvert_exporter": "python",
   "pygments_lexer": "ipython3",
   "version": "3.10.14"
  }
 },
 "nbformat": 4,
 "nbformat_minor": 2
}
